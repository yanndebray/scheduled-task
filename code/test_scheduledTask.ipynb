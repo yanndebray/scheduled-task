{
 "cells": [
  {
   "cell_type": "code",
   "execution_count": 1,
   "metadata": {},
   "outputs": [
    {
     "name": "stdout",
     "output_type": "stream",
     "text": [
      "-----------------------------------------------------------------------------------------------------\n",
      "MATLAB Version: 24.1.0.2578822 (R2024a) Update 2\n",
      "MATLAB License Number: 40447121\n",
      "Operating System: Linux 6.2.0-1019-azure #19~22.04.1-Ubuntu SMP Wed Jan 10 22:57:03 UTC 2024 x86_64\n",
      "Java Version: Java 1.8.0_202-b08 with Oracle Corporation Java HotSpot(TM) 64-Bit Server VM mixed mode\n",
      "-----------------------------------------------------------------------------------------------------\n",
      "MATLAB                                                Version 24.1        (R2024a)\n",
      "Simulink                                              Version 24.1        (R2024a)\n",
      "Curve Fitting Toolbox                                 Version 24.1        (R2024a)\n",
      "Deep Learning Toolbox                                 Version 24.1        (R2024a)\n",
      "Image Processing Toolbox                              Version 24.1        (R2024a)\n",
      "MATLAB Compiler                                       Version 24.1        (R2024a)\n",
      "MATLAB Compiler SDK                                   Version 24.1        (R2024a)\n",
      "Simulink Compiler                                     Version 24.1        (R2024a)\n",
      "Statistics and Machine Learning Toolbox               Version 24.1        (R2024a)\n"
     ]
    }
   ],
   "source": [
    "ver"
   ]
  },
  {
   "cell_type": "code",
   "execution_count": 2,
   "id": "3c4b8d06",
   "metadata": {},
   "outputs": [
    {
     "name": "stdout",
     "output_type": "stream",
     "text": [
      "task1.m  task2.mlx  task3.ipynb  task3.m\n",
      "\n"
     ]
    }
   ],
   "source": [
    "ls('Tasks')"
   ]
  },
  {
   "cell_type": "code",
   "execution_count": 3,
   "id": "5af80510",
   "metadata": {},
   "outputs": [],
   "source": [
    "addpath('code')"
   ]
  },
  {
   "cell_type": "code",
   "execution_count": 9,
   "id": "896623a2",
   "metadata": {},
   "outputs": [
    {
     "data": {
      "text/html": [
       "<html><body><pre>ans = struct with fields:\n",
       "             Name: 'task3'\n",
       "    ExecutionTime: '*/5 * * * *'\n",
       "       OutputData: [1x0 char]\n",
       "         TimeZone: 'local'\n",
       "</pre></body></html>"
      ],
      "text/plain": [
       "ans = struct with fields:\n",
       "             Name: 'task3'\n",
       "    ExecutionTime: '*/5 * * * *'\n",
       "       OutputData: [1x0 char]\n",
       "         TimeZone: 'local'\n"
      ]
     },
     "execution_count": 9,
     "metadata": {},
     "output_type": "execute_result"
    }
   ],
   "source": [
    "filepath = 'Tasks/task3.m';\n",
    "schedule = \"*/5 * * * *\"; % every 5 minutes\n",
    "output = \"Data/\"; % optionally specify output to zip and save\n",
    "scheduleTask(filepath, schedule)"
   ]
  },
  {
   "cell_type": "code",
   "execution_count": 10,
   "id": "6e83c7c9",
   "metadata": {},
   "outputs": [
    {
     "data": {
      "text/html": [
       "<html><body><pre>ans = \n",
       "    'name: task3\n",
       "     run-name: Scheduling a MATLAB task\n",
       "     \n",
       "     on: \n",
       "       schedule:\n",
       "         - cron: '*/5 * * * *'\n",
       "       workflow_dispatch: {}\n",
       "     \n",
       "     jobs:\n",
       "       task:\n",
       "         runs-on: ubuntu-latest\n",
       "         steps:\n",
       "           # Checks-out your repository under $GITHUB_WORKSPACE, so your job can access it\n",
       "           - uses: actions/checkout@v4\n",
       "           \n",
       "           # Sets up MATLAB on a GitHub-hosted runner\n",
       "           - name: Set up MATLAB\n",
       "             uses: matlab-actions/setup-matlab@v2\n",
       "     \n",
       "           # You can use \"run-command\" to execute custom MATLAB scripts, functions, or statements\n",
       "           - name: Run custom testing procedure\n",
       "             uses: matlab-actions/run-command@v2\n",
       "             with:\n",
       "               command: disp('Running my task!'); addpath('Tasks'); task3;\n",
       "               \n",
       "           # Save the result as artifact\n",
       "           - name: Archive output data\n",
       "             uses: actions/upload-artifact@v4\n",
       "             with:\n",
       "               name: task-output\n",
       "               path: '\n",
       "</pre></body></html>"
      ],
      "text/plain": [
       "ans = \n",
       "    'name: task3\n",
       "     run-name: Scheduling a MATLAB task\n",
       "     \n",
       "     on: \n",
       "       schedule:\n",
       "         - cron: '*/5 * * * *'\n",
       "       workflow_dispatch: {}\n",
       "     \n",
       "     jobs:\n",
       "       task:\n",
       "         runs-on: ubuntu-latest\n",
       "         steps:\n",
       "           # Checks-out your repository under $GITHUB_WORKSPACE, so your job can access it\n",
       "           - uses: actions/checkout@v4\n",
       "           \n",
       "           # Sets up MATLAB on a GitHub-hosted runner\n",
       "           - name: Set up MATLAB\n",
       "             uses: matlab-actions/setup-matlab@v2\n",
       "     \n",
       "           # You can use \"run-command\" to execute custom MATLAB scripts, functions, or statements\n",
       "           - name: Run custom testing procedure\n",
       "             uses: matlab-actions/run-command@v2\n",
       "             with:\n",
       "               command: disp('Running my task!'); addpath('Tasks'); task3;\n",
       "               \n",
       "           # Save the result as artifact\n",
       "           - name: Archive output data\n",
       "             uses: actions/upload-artifact@v4\n",
       "             with:\n",
       "               name: task-output\n",
       "               path: '\n"
      ]
     },
     "execution_count": 10,
     "metadata": {},
     "output_type": "execute_result"
    }
   ],
   "source": [
    "fileread('.github/workflows/task3.yml')"
   ]
  },
  {
   "cell_type": "markdown",
   "id": "0c982967",
   "metadata": {},
   "source": [
    "## Testing YAML readers"
   ]
  },
  {
   "cell_type": "markdown",
   "id": "dfadc4c5",
   "metadata": {},
   "source": [
    "### v0\n",
    "yamlread (my version)"
   ]
  },
  {
   "cell_type": "code",
   "execution_count": 57,
   "id": "b71f0171",
   "metadata": {},
   "outputs": [
    {
     "data": {
      "text/html": [
       "<html><body><pre>ans = \n",
       "    \"name: task_name\n",
       "     run-name: Scheduling a MATLAB task\n",
       "     \n",
       "     on: \n",
       "       schedule:\n",
       "         - cron: task_schedule\n",
       "       workflow_dispatch: {}\n",
       "     \n",
       "     jobs:\n",
       "       task:\n",
       "         runs-on: ubuntu-latest\n",
       "         steps:\n",
       "           # Checks-out your repository under $GITHUB_WORKSPACE, so your job can access it\n",
       "           - uses: actions/checkout@v4\n",
       "           \n",
       "           # Sets up MATLAB on a GitHub-hosted runner\n",
       "           - name: Set up MATLAB\n",
       "             uses: matlab-actions/setup-matlab@v2\n",
       "     \n",
       "           # You can use \"run-command\" to execute custom MATLAB scripts, functions, or statements\n",
       "           - name: Run custom testing procedure\n",
       "             uses: matlab-actions/run-command@v2\n",
       "             with:\n",
       "               command: disp('Running my task!'); addpath('Tasks'); task1;\n",
       "     \n",
       "           # Commit and push the result of the MATLAB task\n",
       "           - name: Commit and push changes\n",
       "             run: |\n",
       "               date > last-run.txt\n",
       "               git config user.name github-actions\n",
       "               git config user.email github-actions@github.com\n",
       "               git add .\n",
       "               git commit -m \"generated\"\n",
       "               git push\n",
       "     \n",
       "           # Save the result as artifact\n",
       "           - name: Archive output data\n",
       "             uses: actions/upload-artifact@v4\n",
       "             with:\n",
       "               name: bitcoin-price-history\n",
       "               path: Data/btc.csv\n",
       "     \"\n",
       "</pre></body></html>"
      ],
      "text/plain": [
       "ans = \n",
       "    \"name: task_name\n",
       "     run-name: Scheduling a MATLAB task\n",
       "     \n",
       "     on: \n",
       "       schedule:\n",
       "         - cron: task_schedule\n",
       "       workflow_dispatch: {}\n",
       "     \n",
       "     jobs:\n",
       "       task:\n",
       "         runs-on: ubuntu-latest\n",
       "         steps:\n",
       "           # Checks-out your repository under $GITHUB_WORKSPACE, so your job can access it\n",
       "           - uses: actions/checkout@v4\n",
       "           \n",
       "           # Sets up MATLAB on a GitHub-hosted runner\n",
       "           - name: Set up MATLAB\n",
       "             uses: matlab-actions/setup-matlab@v2\n",
       "     \n",
       "           # You can use \"run-command\" to execute custom MATLAB scripts, functions, or statements\n",
       "           - name: Run custom testing procedure\n",
       "             uses: matlab-actions/run-command@v2\n",
       "             with:\n",
       "               command: disp('Running my task!'); addpath('Tasks'); task1;\n",
       "     \n",
       "           # Commit and push the result of the MATLAB task\n",
       "           - name: Commit and push changes\n",
       "             run: |\n",
       "               date > last-run.txt\n",
       "               git config user.name github-actions\n",
       "               git config user.email github-actions@github.com\n",
       "               git add .\n",
       "               git commit -m \"generated\"\n",
       "               git push\n",
       "     \n",
       "           # Save the result as artifact\n",
       "           - name: Archive output data\n",
       "             uses: actions/upload-artifact@v4\n",
       "             with:\n",
       "               name: bitcoin-price-history\n",
       "               path: Data/btc.csv\n",
       "     \"\n"
      ]
     },
     "execution_count": 57,
     "metadata": {},
     "output_type": "execute_result"
    }
   ],
   "source": [
    "yamlread('taskTemplate.yml')"
   ]
  },
  {
   "cell_type": "markdown",
   "id": "192aefa7",
   "metadata": {},
   "source": [
    "### v1\n",
    "yaml \n",
    "https://www.mathworks.com/matlabcentral/fileexchange/106765-yaml\n",
    "MIT license, based on SnakeYAML in Java with Apache license"
   ]
  },
  {
   "cell_type": "code",
   "execution_count": 22,
   "id": "f4d6aeba",
   "metadata": {},
   "outputs": [
    {
     "data": {
      "text/html": [
       "<html><body><pre>ans = '/workspaces/scheduled-task/yaml.zip'</pre></body></html>"
      ],
      "text/plain": [
       "ans = '/workspaces/scheduled-task/yaml.zip'"
      ]
     },
     "execution_count": 22,
     "metadata": {},
     "output_type": "execute_result"
    }
   ],
   "source": [
    "websave('yaml.zip','https://www.mathworks.com/matlabcentral/mlc-downloads/downloads/f971f257-019c-46da-a929-1bb009ea1f61/5fd5bce2-38bb-4914-8c7d-29d2f758d822/packages/zip')\n",
    "unzip('yaml.zip','yaml')\n",
    "movefile('yaml/+yaml', '.')"
   ]
  },
  {
   "cell_type": "code",
   "execution_count": 41,
   "id": "5bd61207",
   "metadata": {},
   "outputs": [
    {
     "data": {
      "text/html": [
       "<html><body><pre>t = struct with fields:\n",
       "        name: \"task_name\"\n",
       "    run_name: \"${{ github.actor }} is scheduling a MATLAB task\"\n",
       "        true: [1x1 yaml.Null]\n",
       "        jobs: [1x1 struct]\n",
       "</pre></body></html>"
      ],
      "text/plain": [
       "t = struct with fields:\n",
       "        name: \"task_name\"\n",
       "    run_name: \"${{ github.actor }} is scheduling a MATLAB task\"\n",
       "        true: [1x1 yaml.Null]\n",
       "        jobs: [1x1 struct]\n"
      ]
     },
     "execution_count": 41,
     "metadata": {},
     "output_type": "execute_result"
    }
   ],
   "source": [
    "t = yaml.loadFile('taskTemplate.yml')"
   ]
  },
  {
   "cell_type": "code",
   "execution_count": 40,
   "id": "11abdf1a",
   "metadata": {},
   "outputs": [
    {
     "data": {
      "text/html": [
       "<html><body><pre>ans = \"<Task Name>\"</pre></body></html>"
      ],
      "text/plain": [
       "ans = \"<Task Name>\""
      ]
     },
     "execution_count": 40,
     "metadata": {},
     "output_type": "execute_result"
    }
   ],
   "source": [
    "t.name"
   ]
  },
  {
   "cell_type": "code",
   "execution_count": 36,
   "id": "73b0f250",
   "metadata": {},
   "outputs": [
    {
     "name": "stdout",
     "output_type": "stream",
     "text": [
      "    uses: \"actions/checkout@v4\"\n",
      "\n",
      "    name: \"Set up MATLAB\"\n",
      "    uses: \"matlab-actions/setup-matlab@v2\"\n",
      "\n",
      "    name: \"Run custom testing procedure\"\n",
      "    uses: \"matlab-actions/run-command@v2\"\n",
      "    with: [1x1 struct]\n",
      "\n",
      "    name: \"Commit and push changes\"\n",
      "     run: \"date > last-run.txt...\"\n",
      "\n",
      "    name: \"Archive output data\"\n",
      "    uses: \"actions/upload-artifact@v4\"\n",
      "    with: [1x1 struct]\n",
      "\n"
     ]
    }
   ],
   "source": [
    "steps = t.jobs.task.steps;\n",
    "% steps{1}\n",
    "for i = 1:length(steps)\n",
    "    disp(steps{i})\n",
    "end"
   ]
  },
  {
   "cell_type": "markdown",
   "id": "b814591e",
   "metadata": {},
   "source": [
    "### v2\n",
    "\n",
    "readyaml https://www.mathworks.com/matlabcentral/fileexchange/136369-readyaml"
   ]
  },
  {
   "cell_type": "code",
   "execution_count": 44,
   "id": "8318479a",
   "metadata": {},
   "outputs": [
    {
     "data": {
      "text/html": [
       "<html><body><pre>ans = '/workspaces/scheduled-task/yaml2.zip'</pre></body></html>"
      ],
      "text/plain": [
       "ans = '/workspaces/scheduled-task/yaml2.zip'"
      ]
     },
     "execution_count": 44,
     "metadata": {},
     "output_type": "execute_result"
    }
   ],
   "source": [
    "websave('yaml2.zip','https://www.mathworks.com/matlabcentral/mlc-downloads/downloads/bd1d9593-50f6-47c2-935c-aebd12efba7c/17f13ea2-8be2-4a65-8374-1c31259edfef/packages/zip')\n",
    "unzip('yaml2.zip','yaml2')\n",
    "movefile('yaml2/readyaml.m', '.')"
   ]
  },
  {
   "cell_type": "code",
   "execution_count": 48,
   "id": "a5a749dd",
   "metadata": {},
   "outputs": [
    {
     "name": "stderr",
     "output_type": "stream",
     "text": [
      "Invalid field name: 'runs-on'.\n",
      "\n",
      "Error in setfield (line 14)\n",
      "    s.(deblank(strField)) = varargin{end};    \n",
      "\n",
      "Error in readyaml>createStruct (line 123)\n",
      "        results = setfield(results,keycell{:},value);\n",
      "\n",
      "Error in readyaml>createStruct (line 94)\n",
      "        [value,ii,structlvl] = createStruct(data,ii,key,structlvl);\n",
      "\n",
      "Error in readyaml>createStruct (line 94)\n",
      "        [value,ii,structlvl] = createStruct(data,ii,key,structlvl);\n",
      "\n",
      "Error in readyaml (line 59)\n",
      "results = createStruct(data,1,key,structlvl);"
     ]
    }
   ],
   "source": [
    "taskTemplate = readyaml('taskTemplate.yml')"
   ]
  },
  {
   "cell_type": "markdown",
   "id": "ce8f7aae",
   "metadata": {},
   "source": [
    "### v3\n",
    "\n",
    "Python version"
   ]
  },
  {
   "cell_type": "code",
   "execution_count": 49,
   "id": "9e5791b4",
   "metadata": {},
   "outputs": [
    {
     "name": "stdout",
     "output_type": "stream",
     "text": [
      "Collecting pyyaml\n",
      "  Downloading PyYAML-6.0.1-cp310-cp310-manylinux_2_17_x86_64.manylinux2014_x86_64.whl (705 kB)\n",
      "\u001b[2K     \u001b[38;2;114;156;31m━━━━━━━━━━━━━━━━━━━━━━━━━━━━━━━━━━━━━━\u001b[0m \u001b[32m705.5/705.5 kB\u001b[0m \u001b[31m18.9 MB/s\u001b[0m eta \u001b[36m0:00:00\u001b[0mm eta \u001b[36m0:00:01\u001b[0m\n",
      "\u001b[?25hInstalling collected packages: pyyaml\n",
      "Successfully installed pyyaml-6.0.1\n"
     ]
    }
   ],
   "source": [
    "!pip install pyyaml"
   ]
  },
  {
   "cell_type": "code",
   "execution_count": 51,
   "id": "1ce425b5",
   "metadata": {},
   "outputs": [
    {
     "data": {
      "text/html": [
       "<html><body><pre>ans = \n",
       "  PythonEnvironment with properties:\n",
       "\n",
       "          Version: \"3.10\"\n",
       "       Executable: \"/opt/conda/bin/python3\"\n",
       "          Library: \"/opt/conda/lib/libpython3.10.so\"\n",
       "             Home: \"/opt/conda\"\n",
       "           Status: NotLoaded\n",
       "    ExecutionMode: OutOfProcess\n",
       "</pre></body></html>"
      ],
      "text/plain": [
       "ans = \n",
       "  PythonEnvironment with properties:\n",
       "\n",
       "          Version: \"3.10\"\n",
       "       Executable: \"/opt/conda/bin/python3\"\n",
       "          Library: \"/opt/conda/lib/libpython3.10.so\"\n",
       "             Home: \"/opt/conda\"\n",
       "           Status: NotLoaded\n",
       "    ExecutionMode: OutOfProcess\n"
      ]
     },
     "execution_count": 51,
     "metadata": {},
     "output_type": "execute_result"
    }
   ],
   "source": [
    "pyenv(ExecutionMode = 'OutOfProcess')"
   ]
  },
  {
   "cell_type": "code",
   "execution_count": 79,
   "id": "8c3684ce",
   "metadata": {},
   "outputs": [
    {
     "data": {
      "text/html": [
       "<html><body><pre>ans = \n",
       "  Python dict with no properties.\n",
       "\n",
       "    {'name': 'task_name', True: {'schedule': [{'cron': 'task_schedule'}], 'workflow_dispatch': {}}, 'jobs': {'task': {'runs-on': 'ubuntu-latest', 'steps': [{'uses': 'actions/checkout@v4'}, {'name': 'Set up MATLAB', 'uses': 'matlab-actions/setup-matlab@v2'}, {'name': 'Run custom testing procedure', 'uses': 'matlab-actions/run-command@v2', 'with': {'command': \"disp('Running my task!'); addpath('Tasks'); task1;\"}}, {'name': 'Commit and push changes', 'run': 'date > last-run.txt\\ngit config user.name github-actions\\ngit config user.email github-actions@github.com\\ngit add .\\ngit commit -m \"generated\"\\ngit push\\n'}, {'name': 'Archive output data', 'uses': 'actions/upload-artifact@v4', 'with': {'name': 'bitcoin-price-history', 'path': 'Data/btc.csv'}}]}}}\n",
       "</pre></body></html>"
      ],
      "text/plain": [
       "ans = \n",
       "  Python dict with no properties.\n",
       "\n",
       "    {'name': 'task_name', True: {'schedule': [{'cron': 'task_schedule'}], 'workflow_dispatch': {}}, 'jobs': {'task': {'runs-on': 'ubuntu-latest', 'steps': [{'uses': 'actions/checkout@v4'}, {'name': 'Set up MATLAB', 'uses': 'matlab-actions/setup-matlab@v2'}, {'name': 'Run custom testing procedure', 'uses': 'matlab-actions/run-command@v2', 'with': {'command': \"disp('Running my task!'); addpath('Tasks'); task1;\"}}, {'name': 'Commit and push changes', 'run': 'date > last-run.txt\\ngit config user.name github-actions\\ngit config user.email github-actions@github.com\\ngit add .\\ngit commit -m \"generated\"\\ngit push\\n'}, {'name': 'Archive output data', 'uses': 'actions/upload-artifact@v4', 'with': {'name': 'bitcoin-price-history', 'path': 'Data/btc.csv'}}]}}}\n"
      ]
     },
     "execution_count": 79,
     "metadata": {},
     "output_type": "execute_result"
    }
   ],
   "source": [
    "str = fileread('taskTemplate.yml');\n",
    "py.yaml.safe_load(str)\n",
    "% dict = py.tasky.load_yaml(str)\n",
    "% t = struct(dict)"
   ]
  },
  {
   "cell_type": "code",
   "execution_count": 16,
   "id": "8b01a476",
   "metadata": {},
   "outputs": [
    {
     "name": "stdout",
     "output_type": "stream",
     "text": [
      "name: task1\n",
      "schedule: \"0 0 * * *\"\n",
      "output: Data/\n"
     ]
    }
   ],
   "source": [
    "pyrunfile('tasky.py')"
   ]
  }
 ],
 "metadata": {
  "kernelspec": {
   "display_name": "MATLAB Kernel",
   "language": "matlab",
   "name": "jupyter_matlab_kernel"
  },
  "language_info": {
   "file_extension": ".m",
   "mimetype": "text/x-matlab",
   "name": "matlab"
  }
 },
 "nbformat": 4,
 "nbformat_minor": 5
}
